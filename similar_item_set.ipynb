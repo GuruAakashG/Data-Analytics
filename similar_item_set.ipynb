{
 "cells": [
  {
   "cell_type": "markdown",
   "id": "1ad8918c",
   "metadata": {
    "scrolled": true
   },
   "source": [
    "NAME    : GURU AAKASH G\n",
    "\n",
    "\n"
   ]
  },
  {
   "cell_type": "markdown",
   "id": "8b0db253",
   "metadata": {},
   "source": [
    "ROLL NO : 191IT220"
   ]
  },
  {
   "cell_type": "markdown",
   "id": "ab653325",
   "metadata": {},
   "source": [
    "SUBJECT : IT350 - DATA ANALYTICS"
   ]
  },
  {
   "cell_type": "markdown",
   "id": "393238f0",
   "metadata": {},
   "source": [
    "DATE    : 19-02-2022"
   ]
  },
  {
   "cell_type": "markdown",
   "id": "c48fa5d1",
   "metadata": {},
   "source": [
    "TOPIC   : SHINGLES, JACCARD SIMILARITY, MIN-HASH SIGNATURE"
   ]
  },
  {
   "cell_type": "markdown",
   "id": "71740b2e",
   "metadata": {},
   "source": [
    "CODE LINK : https://drive.google.com/file/d/1nCgb10BRDuSAEpgezo7DziB6UlpMTMOt/view?usp=sharing"
   ]
  },
  {
   "cell_type": "code",
   "execution_count": 17,
   "id": "30185302",
   "metadata": {
    "scrolled": false
   },
   "outputs": [],
   "source": [
    "from nltk.tokenize import word_tokenize\n",
    "from nltk.corpus import stopwords\n",
    "import string\n",
    "import matplotlib.pyplot as plt\n",
    "import numpy as np"
   ]
  },
  {
   "cell_type": "markdown",
   "id": "34e2cdbc",
   "metadata": {},
   "source": [
    "# Dataset"
   ]
  },
  {
   "cell_type": "markdown",
   "id": "15cc28a4",
   "metadata": {},
   "source": [
    "Before working with the files, it is necessary to clean it first. Here cleaning means the text that is used for shingling should contains only alphabets and a space character."
   ]
  },
  {
   "cell_type": "markdown",
   "id": "f876c349",
   "metadata": {},
   "source": [
    "Reading the file ---> splitting the text into words ---> converting all words of text to lowercase and storing it in a array ---> removing the punctuation marks from each words ---> removing remaining tokens that are not alphabetic ---> Finally combining all the words of array to a string of text. "
   ]
  },
  {
   "cell_type": "code",
   "execution_count": 18,
   "id": "f992176e",
   "metadata": {
    "scrolled": false
   },
   "outputs": [],
   "source": [
    "def cleaning_file(path):\n",
    "    file = open(path, 'rt')\n",
    "    text = file.read()\n",
    "    file.close()\n",
    "    \n",
    "    tokens = word_tokenize(text)                                # split into words    \n",
    "    tokens = [w.lower() for w in tokens]                        # convert to lower case    \n",
    "    table = str.maketrans('', '', string.punctuation)\n",
    "    stripped = [w.translate(table) for w in tokens]             # remove punctuation from each word    \n",
    "    words = [word for word in stripped if word.isalpha()]       # remove remaining tokens that are not alphabetic\n",
    "    text = \"\"\n",
    "    for i in words:\n",
    "        text = text + i + \" \"\n",
    "    return text"
   ]
  },
  {
   "cell_type": "code",
   "execution_count": 19,
   "id": "4ba0116f",
   "metadata": {
    "scrolled": false
   },
   "outputs": [],
   "source": [
    "f1 = cleaning_file('dataset/file1.txt')\n",
    "f2 = cleaning_file('dataset/file2.txt')\n",
    "f3 = cleaning_file('dataset/file3.txt')\n",
    "f4 = cleaning_file('dataset/file4.txt')"
   ]
  },
  {
   "cell_type": "markdown",
   "id": "14290bad",
   "metadata": {},
   "source": [
    "Displaying the first 100 characters of the string of text of each files with its total number of characters and words"
   ]
  },
  {
   "cell_type": "code",
   "execution_count": 20,
   "id": "5c0c7440",
   "metadata": {
    "scrolled": false
   },
   "outputs": [
    {
     "name": "stdout",
     "output_type": "stream",
     "text": [
      "File 1 :  for children sly fox mr rabbit sat on his front porch rocking eating a great big carrot and looking  ...\n",
      "File 2 :  the three wishes once upon a time a woodcutter lived happily with his wife in a pretty little log ca ...\n",
      "File 3 :  the three little pigs once upon a time there were three little pigs who left their mummy and daddy t ...\n",
      "File 4 :  six able men once upon a time there lived a young soldier named martin who had enlisted in the royal ...\n",
      "\n",
      "\n",
      "Total character in file 1 = 7527\n",
      "Total character in file 2 = 3994\n",
      "Total character in file 3 = 5066\n",
      "Total character in file 4 = 6625\n",
      "\n",
      "\n",
      "Total words in file 1 = 1459\n",
      "Total words in file 2 = 789\n",
      "Total words in file 3 = 1018\n",
      "Total words in file 4 = 1294\n"
     ]
    }
   ],
   "source": [
    "print(\"File 1 : \",f1[:100],\"...\")\n",
    "print(\"File 2 : \",f2[:100],\"...\")\n",
    "print(\"File 3 : \",f3[:100],\"...\")\n",
    "print(\"File 4 : \",f4[:100],\"...\")\n",
    "\n",
    "print(\"\\n\")\n",
    "print(\"Total character in file 1 =\",len(f1))\n",
    "print(\"Total character in file 2 =\",len(f2))\n",
    "print(\"Total character in file 3 =\",len(f3))\n",
    "print(\"Total character in file 4 =\",len(f4))\n",
    "print(\"\\n\")\n",
    "print(\"Total words in file 1 =\",f1.count(\" \"))\n",
    "print(\"Total words in file 2 =\",f2.count(\" \"))\n",
    "print(\"Total words in file 3 =\",f3.count(\" \"))\n",
    "print(\"Total words in file 4 =\",f4.count(\" \"))"
   ]
  },
  {
   "cell_type": "markdown",
   "id": "c1d0901a",
   "metadata": {},
   "source": [
    "# Task"
   ]
  },
  {
   "cell_type": "markdown",
   "id": "f351d45b",
   "metadata": {},
   "source": [
    "### Construct several types of k-shingles for all documents."
   ]
  },
  {
   "cell_type": "markdown",
   "id": "083fd9f6",
   "metadata": {},
   "source": [
    "A k-shingle for a document is a sequence of distinct k characters that appears in the document. There are mainly 2 types of shingles. Those are character based shingles and word based shingles"
   ]
  },
  {
   "cell_type": "code",
   "execution_count": 21,
   "id": "bf26566b",
   "metadata": {
    "scrolled": false
   },
   "outputs": [],
   "source": [
    "def construct_shingles_character_based(k,text):\n",
    "    shingle = []\n",
    "    n = len(text)\n",
    "    for i in range(0,n-k):\n",
    "        x = text[i:i+k]\n",
    "        if(x not in shingle):\n",
    "            shingle.append(x)\n",
    "    return shingle\n",
    "\n",
    "def construct_shingles_word_based(k,text):\n",
    "    shingle = []\n",
    "    splitted_text = text.split(\" \")\n",
    "    n = len(splitted_text)\n",
    "    for i in range(0,n-k):\n",
    "        x = \" \".join(splitted_text[i:i+k])\n",
    "        if(x not in shingle):\n",
    "            shingle.append(x)   \n",
    "            \n",
    "    return shingle"
   ]
  },
  {
   "cell_type": "markdown",
   "id": "6f0ba93f",
   "metadata": {},
   "source": [
    "# Sub-Task"
   ]
  },
  {
   "cell_type": "markdown",
   "id": "daa0f4eb",
   "metadata": {},
   "source": [
    "### Construct 5-shingles based on characters, for all documents."
   ]
  },
  {
   "cell_type": "code",
   "execution_count": 22,
   "id": "32a962b5",
   "metadata": {
    "scrolled": false
   },
   "outputs": [],
   "source": [
    "shingle_5_character_f1 = construct_shingles_character_based(5,f1)\n",
    "shingle_5_character_f2 = construct_shingles_character_based(5,f2)\n",
    "shingle_5_character_f3 = construct_shingles_character_based(5,f3)\n",
    "shingle_5_character_f4 = construct_shingles_character_based(5,f4)"
   ]
  },
  {
   "cell_type": "markdown",
   "id": "1088d8d4",
   "metadata": {},
   "source": [
    "Printing the fist 10 set of character based 5-shingles for all documents"
   ]
  },
  {
   "cell_type": "code",
   "execution_count": 23,
   "id": "f409eeec",
   "metadata": {
    "scrolled": false
   },
   "outputs": [
    {
     "name": "stdout",
     "output_type": "stream",
     "text": [
      "['for c', 'or ch', 'r chi', ' chil', 'child', 'hildr', 'ildre', 'ldren', 'dren ', 'ren s']\n",
      "['the t', 'he th', 'e thr', ' thre', 'three', 'hree ', 'ree w', 'ee wi', 'e wis', ' wish']\n",
      "['the t', 'he th', 'e thr', ' thre', 'three', 'hree ', 'ree l', 'ee li', 'e lit', ' litt']\n",
      "['six a', 'ix ab', 'x abl', ' able', 'able ', 'ble m', 'le me', 'e men', ' men ', 'men o']\n"
     ]
    }
   ],
   "source": [
    "print(shingle_5_character_f1[:10])\n",
    "print(shingle_5_character_f2[:10])\n",
    "print(shingle_5_character_f3[:10])\n",
    "print(shingle_5_character_f4[:10])"
   ]
  },
  {
   "cell_type": "markdown",
   "id": "aedf4428",
   "metadata": {},
   "source": [
    "### Construct 8-shingles based on characters, for all documents."
   ]
  },
  {
   "cell_type": "code",
   "execution_count": 24,
   "id": "ef6b2bd9",
   "metadata": {
    "scrolled": false
   },
   "outputs": [],
   "source": [
    "shingle_8_character_f1 = construct_shingles_character_based(8,f1)\n",
    "shingle_8_character_f2 = construct_shingles_character_based(8,f2)\n",
    "shingle_8_character_f3 = construct_shingles_character_based(8,f3)\n",
    "shingle_8_character_f4 = construct_shingles_character_based(8,f4)"
   ]
  },
  {
   "cell_type": "markdown",
   "id": "4b209322",
   "metadata": {},
   "source": [
    "Printing the fist 10 set of character based 8-shingles for all documents"
   ]
  },
  {
   "cell_type": "code",
   "execution_count": 25,
   "id": "29a5407b",
   "metadata": {
    "scrolled": false
   },
   "outputs": [
    {
     "name": "stdout",
     "output_type": "stream",
     "text": [
      "['for chil', 'or child', 'r childr', ' childre', 'children', 'hildren ', 'ildren s', 'ldren sl', 'dren sly', 'ren sly ']\n",
      "['the thre', 'he three', 'e three ', ' three w', 'three wi', 'hree wis', 'ree wish', 'ee wishe', 'e wishes', ' wishes ']\n",
      "['the thre', 'he three', 'e three ', ' three l', 'three li', 'hree lit', 'ree litt', 'ee littl', 'e little', ' little ']\n",
      "['six able', 'ix able ', 'x able m', ' able me', 'able men', 'ble men ', 'le men o', 'e men on', ' men onc', 'men once']\n"
     ]
    }
   ],
   "source": [
    "print(shingle_8_character_f1[:10])\n",
    "print(shingle_8_character_f2[:10])\n",
    "print(shingle_8_character_f3[:10])\n",
    "print(shingle_8_character_f4[:10])"
   ]
  },
  {
   "cell_type": "markdown",
   "id": "3c01f23f",
   "metadata": {},
   "source": [
    "### Construct 4-shingles based on words, for all documents."
   ]
  },
  {
   "cell_type": "code",
   "execution_count": 26,
   "id": "af27fdc7",
   "metadata": {
    "scrolled": false
   },
   "outputs": [],
   "source": [
    "shingle_4_word_f1 = construct_shingles_word_based(4,f1)\n",
    "shingle_4_word_f2 = construct_shingles_word_based(4,f2)\n",
    "shingle_4_word_f3 = construct_shingles_word_based(4,f3)\n",
    "shingle_4_word_f4 = construct_shingles_word_based(4,f4)"
   ]
  },
  {
   "cell_type": "markdown",
   "id": "41dc46c4",
   "metadata": {},
   "source": [
    "Printing the fist 5 set of word  based 4-shingles for all documents"
   ]
  },
  {
   "cell_type": "code",
   "execution_count": 27,
   "id": "787b78b9",
   "metadata": {
    "scrolled": false
   },
   "outputs": [
    {
     "name": "stdout",
     "output_type": "stream",
     "text": [
      "['for children sly fox', 'children sly fox mr', 'sly fox mr rabbit', 'fox mr rabbit sat', 'mr rabbit sat on']\n",
      "['the three wishes once', 'three wishes once upon', 'wishes once upon a', 'once upon a time', 'upon a time a']\n",
      "['the three little pigs', 'three little pigs once', 'little pigs once upon', 'pigs once upon a', 'once upon a time']\n",
      "['six able men once', 'able men once upon', 'men once upon a', 'once upon a time', 'upon a time there']\n"
     ]
    }
   ],
   "source": [
    "print(shingle_4_word_f1[:5])\n",
    "print(shingle_4_word_f2[:5])\n",
    "print(shingle_4_word_f3[:5])\n",
    "print(shingle_4_word_f4[:5])"
   ]
  },
  {
   "cell_type": "markdown",
   "id": "dd76fc19",
   "metadata": {},
   "source": [
    "# Questions"
   ]
  },
  {
   "cell_type": "markdown",
   "id": "8daf9a44",
   "metadata": {},
   "source": [
    "### How many distinct shingles are there for each document with each type of shingle?"
   ]
  },
  {
   "cell_type": "code",
   "execution_count": 28,
   "id": "c437b5c8",
   "metadata": {
    "scrolled": false
   },
   "outputs": [
    {
     "data": {
      "image/png": "[encoded data removed]",
      "text/plain": [
       "<Figure size 432x288 with 1 Axes>"
      ]
     },
     "metadata": {
      "needs_background": "light"
     },
     "output_type": "display_data"
    }
   ],
   "source": [
    "def distinct_character(f,interval):\n",
    "    x = []\n",
    "    y = []\n",
    "    for i in range(1,len(f),interval):\n",
    "        x.append(i)\n",
    "        y.append(len(construct_shingles_character_based(i,f)))\n",
    "    return x,y\n",
    "\n",
    "interval = 100\n",
    "\n",
    "x1,y1 = distinct_character(f1,interval)\n",
    "x2,y2 = distinct_character(f2,interval)\n",
    "x3,y3 = distinct_character(f3,interval)\n",
    "x4,y4 = distinct_character(f4,interval)\n",
    "\n",
    "plt.plot(x1,y1,label=\"file 1\")\n",
    "plt.plot(x2,y2,label=\"file 2\")\n",
    "plt.plot(x3,y3,label=\"file 3\")\n",
    "plt.plot(x4,y4,label=\"file 4\")\n",
    "plt.xlabel(\"k values\")\n",
    "plt.ylabel(\"Number of characters\")\n",
    "plt.title(\"Distint character based k-shingles\")\n",
    "plt.grid()\n",
    "plt.legend()\n",
    "plt.show()"
   ]
  },
  {
   "cell_type": "code",
   "execution_count": 29,
   "id": "1d1ac4dd",
   "metadata": {
    "scrolled": false
   },
   "outputs": [
    {
     "data": {
      "image/png": "[encoded data removed]",
      "text/plain": [
       "<Figure size 432x288 with 1 Axes>"
      ]
     },
     "metadata": {
      "needs_background": "light"
     },
     "output_type": "display_data"
    }
   ],
   "source": [
    "def distinct_word(f):\n",
    "    x = []\n",
    "    y = []\n",
    "    t = f.count(\" \")\n",
    "    for i in range(1,t):\n",
    "        x.append(i)\n",
    "        y.append(len(construct_shingles_word_based(i,f)))\n",
    "    return x,y\n",
    "\n",
    "x1,y1 = distinct_word(f1)\n",
    "x2,y2 = distinct_word(f2)\n",
    "x3,y3 = distinct_word(f3)\n",
    "x4,y4 = distinct_word(f4)\n",
    "\n",
    "plt.plot(x1,y1,label=\"file 1\")\n",
    "plt.plot(x2,y2,label=\"file 2\")\n",
    "plt.plot(x3,y3,label=\"file 3\")\n",
    "plt.plot(x4,y4,label=\"file 4\")\n",
    "plt.xlabel(\"k values\")\n",
    "plt.ylabel(\"Number of characters\")\n",
    "plt.title(\"Distint word based k-shingles\")\n",
    "plt.grid()\n",
    "plt.legend()\n",
    "plt.show()"
   ]
  },
  {
   "cell_type": "markdown",
   "id": "a14e0e44",
   "metadata": {},
   "source": [
    "### Compute the Jaccard distance between all pairs of documents for each type of shingling."
   ]
  },
  {
   "cell_type": "markdown",
   "id": "d5db5ceb",
   "metadata": {},
   "source": [
    "Jaccard similarity = intersection(a,b)/union(a,b)"
   ]
  },
  {
   "cell_type": "markdown",
   "id": "8e425209",
   "metadata": {},
   "source": [
    "Jaccard distance = 1 - Jaccard similarity"
   ]
  },
  {
   "cell_type": "markdown",
   "id": "c415ac53",
   "metadata": {},
   "source": [
    "Displaying jaccard similarity between all the pairs of the document for first 25 elements for character based k-shingles"
   ]
  },
  {
   "cell_type": "code",
   "execution_count": 35,
   "id": "18fad2c7",
   "metadata": {},
   "outputs": [
    {
     "name": "stdout",
     "output_type": "stream",
     "text": [
      "\n",
      "Jaccard distance between file 1 and file 2 :\n",
      "For ( k= 1 )shingles = 0.0\n",
      "For ( k= 2 )shingles = 0.19117647058823528\n",
      "For ( k= 3 )shingles = 0.5266237565827969\n",
      "For ( k= 4 )shingles = 0.7485990830361691\n",
      "For ( k= 5 )shingles = 0.8566139347021204\n",
      "For ( k= 6 )shingles = 0.9141522029372496\n",
      "For ( k= 7 )shingles = 0.9474171878619412\n",
      "For ( k= 8 )shingles = 0.9690579633358058\n",
      "For ( k= 9 )shingles = 0.981247492980345\n",
      "For ( k= 10 )shingles = 0.9891881455738971\n",
      "For ( k= 11 )shingles = 0.9937118723603942\n",
      "For ( k= 12 )shingles = 0.996134376438104\n",
      "For ( k= 13 )shingles = 0.997278664731495\n",
      "For ( k= 14 )shingles = 0.9982046678635548\n",
      "For ( k= 15 )shingles = 0.9986636971046771\n",
      "For ( k= 16 )shingles = 0.999025427482945\n",
      "For ( k= 17 )shingles = 0.9992943459468996\n",
      "For ( k= 18 )shingles = 0.9995605168322054\n",
      "For ( k= 19 )shingles = 0.9998247151621384\n",
      "For ( k= 20 )shingles = 1.0\n",
      "For ( k= 21 )shingles = 1.0\n",
      "For ( k= 22 )shingles = 1.0\n",
      "For ( k= 23 )shingles = 1.0\n",
      "For ( k= 24 )shingles = 1.0\n",
      "\n",
      "\n",
      "Jaccard distance between file 1 and file 3 :\n",
      "For ( k= 1 )shingles = 0.0\n",
      "For ( k= 2 )shingles = 0.1805157593123209\n",
      "For ( k= 3 )shingles = 0.47784632641615254\n",
      "For ( k= 4 )shingles = 0.7190260205299595\n",
      "For ( k= 5 )shingles = 0.8471209064100574\n",
      "For ( k= 6 )shingles = 0.9075371941473012\n",
      "For ( k= 7 )shingles = 0.9455760661998727\n",
      "For ( k= 8 )shingles = 0.9691950014530659\n",
      "For ( k= 9 )shingles = 0.9817665383910573\n",
      "For ( k= 10 )shingles = 0.9896834494312671\n",
      "For ( k= 11 )shingles = 0.9939108061749571\n",
      "For ( k= 12 )shingles = 0.9958761151321326\n",
      "For ( k= 13 )shingles = 0.9969286959408982\n",
      "For ( k= 14 )shingles = 0.99761630774289\n",
      "For ( k= 15 )shingles = 0.9981229086754264\n",
      "For ( k= 16 )shingles = 0.9983763597986686\n",
      "For ( k= 17 )shingles = 0.9986257073565077\n",
      "For ( k= 18 )shingles = 0.9988719684151156\n",
      "For ( k= 19 )shingles = 0.9991161108879067\n",
      "For ( k= 20 )shingles = 0.9993585631815266\n",
      "For ( k= 21 )shingles = 0.9995196541509888\n",
      "For ( k= 22 )shingles = 0.9996802046690119\n",
      "For ( k= 23 )shingles = 0.9998402683491734\n",
      "For ( k= 24 )shingles = 0.9999201979091852\n",
      "\n",
      "\n",
      "Jaccard distance between file 1 and file 4 :\n",
      "For ( k= 1 )shingles = 0.0\n",
      "For ( k= 2 )shingles = 0.21270718232044195\n",
      "For ( k= 3 )shingles = 0.4896331738437002\n",
      "For ( k= 4 )shingles = 0.7110664881749219\n",
      "For ( k= 5 )shingles = 0.8348099456987711\n",
      "For ( k= 6 )shingles = 0.8995647807164379\n",
      "For ( k= 7 )shingles = 0.9380530973451328\n",
      "For ( k= 8 )shingles = 0.9656862745098039\n",
      "For ( k= 9 )shingles = 0.9807381029459372\n",
      "For ( k= 10 )shingles = 0.9892707199502411\n",
      "For ( k= 11 )shingles = 0.9942580840132971\n",
      "For ( k= 12 )shingles = 0.9968124536693848\n",
      "For ( k= 13 )shingles = 0.9983913424978064\n",
      "For ( k= 14 )shingles = 0.9993482511405605\n",
      "For ( k= 15 )shingles = 0.9998561565017261\n",
      "For ( k= 16 )shingles = 0.9999284077892325\n",
      "For ( k= 17 )shingles = 1.0\n",
      "For ( k= 18 )shingles = 1.0\n",
      "For ( k= 19 )shingles = 1.0\n",
      "For ( k= 20 )shingles = 1.0\n",
      "For ( k= 21 )shingles = 1.0\n",
      "For ( k= 22 )shingles = 1.0\n",
      "For ( k= 23 )shingles = 1.0\n",
      "For ( k= 24 )shingles = 1.0\n",
      "\n",
      "\n",
      "Jaccard distance between file 2 and file 3 :\n",
      "For ( k= 1 )shingles = 0.0\n",
      "For ( k= 2 )shingles = 0.19999999999999996\n",
      "For ( k= 3 )shingles = 0.5318210459987398\n",
      "For ( k= 4 )shingles = 0.7375110848359444\n",
      "For ( k= 5 )shingles = 0.8525252525252525\n",
      "For ( k= 6 )shingles = 0.9144533159524197\n",
      "For ( k= 7 )shingles = 0.9493146773272416\n",
      "For ( k= 8 )shingles = 0.9715189873417721\n",
      "For ( k= 9 )shingles = 0.983808208861554\n",
      "For ( k= 10 )shingles = 0.9906417112299465\n",
      "For ( k= 11 )shingles = 0.9944153992395437\n",
      "For ( k= 12 )shingles = 0.9966062024575776\n",
      "For ( k= 13 )shingles = 0.997686256362795\n",
      "For ( k= 14 )shingles = 0.9982794218857536\n",
      "For ( k= 15 )shingles = 0.9987464387464388\n",
      "For ( k= 16 )shingles = 0.999092970521542\n",
      "For ( k= 17 )shingles = 0.9994356022124393\n",
      "For ( k= 18 )shingles = 0.9997751040143933\n",
      "For ( k= 19 )shingles = 0.9998878798071533\n",
      "For ( k= 20 )shingles = 1.0\n",
      "For ( k= 21 )shingles = 1.0\n",
      "For ( k= 22 )shingles = 1.0\n",
      "For ( k= 23 )shingles = 1.0\n",
      "For ( k= 24 )shingles = 1.0\n",
      "\n",
      "\n",
      "Jaccard distance between file 2 and file 4 :\n",
      "For ( k= 1 )shingles = 0.0\n",
      "For ( k= 2 )shingles = 0.23229461756373937\n",
      "For ( k= 3 )shingles = 0.5564042303172738\n",
      "For ( k= 4 )shingles = 0.749465811965812\n",
      "For ( k= 5 )shingles = 0.8560714285714286\n",
      "For ( k= 6 )shingles = 0.9121207805155961\n",
      "For ( k= 7 )shingles = 0.9467223177019396\n",
      "For ( k= 8 )shingles = 0.9707563025210084\n",
      "For ( k= 9 )shingles = 0.9840882571337647\n",
      "For ( k= 10 )shingles = 0.9907758532335759\n",
      "For ( k= 11 )shingles = 0.9945945945945946\n",
      "For ( k= 12 )shingles = 0.996548663839858\n",
      "For ( k= 13 )shingles = 0.9973661106233538\n",
      "For ( k= 14 )shingles = 0.9980650154798761\n",
      "For ( k= 15 )shingles = 0.9985578309777906\n",
      "For ( k= 16 )shingles = 0.9989471669218989\n",
      "For ( k= 17 )shingles = 0.9992369324685234\n",
      "For ( k= 18 )shingles = 0.9995243983639304\n",
      "For ( k= 19 )shingles = 0.9998101025446259\n",
      "For ( k= 20 )shingles = 0.9999051593323217\n",
      "For ( k= 21 )shingles = 1.0\n",
      "For ( k= 22 )shingles = 1.0\n",
      "For ( k= 23 )shingles = 1.0\n",
      "For ( k= 24 )shingles = 1.0\n",
      "\n",
      "\n",
      "Jaccard distance between file 3 and file 4 :\n",
      "For ( k= 1 )shingles = 0.0\n",
      "For ( k= 2 )shingles = 0.20612813370473537\n",
      "For ( k= 3 )shingles = 0.5112233445566778\n",
      "For ( k= 4 )shingles = 0.7295893122216724\n",
      "For ( k= 5 )shingles = 0.8496732026143791\n",
      "For ( k= 6 )shingles = 0.9065554541900169\n",
      "For ( k= 7 )shingles = 0.9428315211299182\n",
      "For ( k= 8 )shingles = 0.9678012879484821\n",
      "For ( k= 9 )shingles = 0.9818234554771343\n",
      "For ( k= 10 )shingles = 0.990025170131444\n",
      "For ( k= 11 )shingles = 0.9946334364198653\n",
      "For ( k= 12 )shingles = 0.9969550420920652\n",
      "For ( k= 13 )shingles = 0.9983169456993534\n",
      "For ( k= 14 )shingles = 0.9986814345991561\n",
      "For ( k= 15 )shingles = 0.9989510489510489\n",
      "For ( k= 16 )shingles = 0.9992167101827676\n",
      "For ( k= 17 )shingles = 0.9993059170570884\n",
      "For ( k= 18 )shingles = 0.999394149212394\n",
      "For ( k= 19 )shingles = 0.9994815070860699\n",
      "For ( k= 20 )shingles = 0.9995685563896799\n",
      "For ( k= 21 )shingles = 0.9996552912788693\n",
      "For ( k= 22 )shingles = 0.9997417577687872\n",
      "For ( k= 23 )shingles = 0.9998279865829535\n",
      "For ( k= 24 )shingles = 0.9999140450403988\n"
     ]
    }
   ],
   "source": [
    "def jaccard_distance_character_based(fx,fy,k):\n",
    "    for i in range(1,k):\n",
    "        c = 0\n",
    "        s1 = construct_shingles_character_based(i,fx)\n",
    "        s2 = construct_shingles_character_based(i,fy)\n",
    "        for j in s1:\n",
    "            if(j in s2):\n",
    "                c = c + 1\n",
    "        print(\"For ( k=\",i,\")shingles =\",1-(c/(len(s1)+len(s2)-c)))\n",
    "\n",
    "length = 25\n",
    "        \n",
    "print(\"\\nJaccard distance between file 1 and file 2 :\")\n",
    "jaccard_distance_character_based(f1,f2,length)\n",
    "print(\"\\n\\nJaccard distance between file 1 and file 3 :\")\n",
    "jaccard_distance_character_based(f1,f3,length)\n",
    "print(\"\\n\\nJaccard distance between file 1 and file 4 :\")\n",
    "jaccard_distance_character_based(f1,f4,length)\n",
    "print(\"\\n\\nJaccard distance between file 2 and file 3 :\")\n",
    "jaccard_distance_character_based(f2,f3,length)\n",
    "print(\"\\n\\nJaccard distance between file 2 and file 4 :\")\n",
    "jaccard_distance_character_based(f2,f4,length)\n",
    "print(\"\\n\\nJaccard distance between file 3 and file 4 :\")\n",
    "jaccard_distance_character_based(f3,f4,length)"
   ]
  },
  {
   "cell_type": "markdown",
   "id": "dcd8bf42",
   "metadata": {},
   "source": [
    "Displaying jaccard similarity between all the pairs of the document for first 10 elements for word based k-shingles"
   ]
  },
  {
   "cell_type": "code",
   "execution_count": 36,
   "id": "a1fbcd95",
   "metadata": {},
   "outputs": [
    {
     "name": "stdout",
     "output_type": "stream",
     "text": [
      "Jaccard distance between file 1 and file 2 :\n",
      "For ( k= 1 )shingles = 0.7953890489913544\n",
      "For ( k= 2 )shingles = 0.9668478260869565\n",
      "For ( k= 3 )shingles = 0.9953810623556582\n",
      "For ( k= 4 )shingles = 0.9986510791366906\n",
      "For ( k= 5 )shingles = 0.9995531724754245\n",
      "For ( k= 6 )shingles = 1.0\n",
      "For ( k= 7 )shingles = 1.0\n",
      "For ( k= 8 )shingles = 1.0\n",
      "For ( k= 9 )shingles = 1.0\n",
      "\n",
      "\n",
      "Jaccard distance between file 1 and file 3 :\n",
      "For ( k= 1 )shingles = 0.7933333333333333\n",
      "For ( k= 2 )shingles = 0.9615576635047429\n",
      "For ( k= 3 )shingles = 0.9957983193277311\n",
      "For ( k= 4 )shingles = 0.9983646770237122\n",
      "For ( k= 5 )shingles = 0.999187982135607\n",
      "For ( k= 6 )shingles = 0.9995944849959448\n",
      "For ( k= 7 )shingles = 1.0\n",
      "For ( k= 8 )shingles = 1.0\n",
      "For ( k= 9 )shingles = 1.0\n",
      "\n",
      "\n",
      "Jaccard distance between file 1 and file 4 :\n",
      "For ( k= 1 )shingles = 0.7848258706467661\n",
      "For ( k= 2 )shingles = 0.961038961038961\n",
      "For ( k= 3 )shingles = 0.9977502812148481\n",
      "For ( k= 4 )shingles = 1.0\n",
      "For ( k= 5 )shingles = 1.0\n",
      "For ( k= 6 )shingles = 1.0\n",
      "For ( k= 7 )shingles = 1.0\n",
      "For ( k= 8 )shingles = 1.0\n",
      "For ( k= 9 )shingles = 1.0\n",
      "\n",
      "\n",
      "Jaccard distance between file 2 and file 3 :\n",
      "For ( k= 1 )shingles = 0.7929883138564273\n",
      "For ( k= 2 )shingles = 0.960942760942761\n",
      "For ( k= 3 )shingles = 0.9971264367816092\n",
      "For ( k= 4 )shingles = 0.999438202247191\n",
      "For ( k= 5 )shingles = 1.0\n",
      "For ( k= 6 )shingles = 1.0\n",
      "For ( k= 7 )shingles = 1.0\n",
      "For ( k= 8 )shingles = 1.0\n",
      "For ( k= 9 )shingles = 1.0\n",
      "\n",
      "\n",
      "Jaccard distance between file 2 and file 4 :\n",
      "For ( k= 1 )shingles = 0.8063063063063063\n",
      "For ( k= 2 )shingles = 0.9621653084982538\n",
      "For ( k= 3 )shingles = 0.9950445986124876\n",
      "For ( k= 4 )shingles = 0.998546511627907\n",
      "For ( k= 5 )shingles = 1.0\n",
      "For ( k= 6 )shingles = 1.0\n",
      "For ( k= 7 )shingles = 1.0\n",
      "For ( k= 8 )shingles = 1.0\n",
      "For ( k= 9 )shingles = 1.0\n",
      "\n",
      "\n",
      "Jaccard distance between file 3 and file 4 :\n",
      "For ( k= 1 )shingles = 0.8082758620689655\n",
      "For ( k= 2 )shingles = 0.9602543720190779\n",
      "For ( k= 3 )shingles = 0.9968694096601073\n",
      "For ( k= 4 )shingles = 0.9991258741258742\n",
      "For ( k= 5 )shingles = 0.9995652173913043\n",
      "For ( k= 6 )shingles = 1.0\n",
      "For ( k= 7 )shingles = 1.0\n",
      "For ( k= 8 )shingles = 1.0\n",
      "For ( k= 9 )shingles = 1.0\n"
     ]
    }
   ],
   "source": [
    "def jaccard_distance_word_based(fx,fy,k):\n",
    "    for i in range(1,k):\n",
    "        c = 0\n",
    "        s1 = construct_shingles_word_based(i,fx)\n",
    "        s2 = construct_shingles_word_based(i,fy)\n",
    "        for j in s1:\n",
    "            if(j in s2):\n",
    "                c = c + 1\n",
    "        print(\"For ( k=\",i,\")shingles =\",1-(c/(len(s1)+len(s2)-c)))\n",
    "\n",
    "length = 10\n",
    "\n",
    "print(\"Jaccard distance between file 1 and file 2 :\")\n",
    "jaccard_distance_word_based(f1,f2,length)\n",
    "print(\"\\n\\nJaccard distance between file 1 and file 3 :\")\n",
    "jaccard_distance_word_based(f1,f3,length)\n",
    "print(\"\\n\\nJaccard distance between file 1 and file 4 :\")\n",
    "jaccard_distance_word_based(f1,f4,length)\n",
    "print(\"\\n\\nJaccard distance between file 2 and file 3 :\")\n",
    "jaccard_distance_word_based(f2,f3,length)\n",
    "print(\"\\n\\nJaccard distance between file 2 and file 4 :\")\n",
    "jaccard_distance_word_based(f2,f4,length)\n",
    "print(\"\\n\\nJaccard distance between file 3 and file 4 :\")\n",
    "jaccard_distance_word_based(f3,f4,length)"
   ]
  },
  {
   "cell_type": "markdown",
   "id": "dcb98c74",
   "metadata": {},
   "source": [
    "### Change to any Similarity Function (use any recent similarity distance) and check the distance."
   ]
  },
  {
   "cell_type": "markdown",
   "id": "8065124d",
   "metadata": {},
   "source": [
    "Using cosine similarity"
   ]
  },
  {
   "cell_type": "markdown",
   "id": "aef0ffce",
   "metadata": {},
   "source": [
    "Cosine similarity is a metric used to determine how similar the documents are irrespective of their size. Mathematically, it measures the cosine of the angle between two vectors projected in a multi-dimensional space"
   ]
  },
  {
   "attachments": {
    "cosine_formula.png": {
     "image/png": "[encoded data removed]"
    }
   },
   "cell_type": "markdown",
   "id": "9f3ccb37",
   "metadata": {},
   "source": [
    "![cosine_formula.png](attachment:cosine_formula.png)"
   ]
  },
  {
   "cell_type": "code",
   "execution_count": 37,
   "id": "49035950",
   "metadata": {
    "scrolled": false
   },
   "outputs": [
    {
     "name": "stdout",
     "output_type": "stream",
     "text": [
      "Character based cosine similarity between file 1 and file 2 :\n",
      "For ( k= 1 )shingles = 1.0\n",
      "For ( k= 2 )shingles = 0.8949350072982828\n",
      "For ( k= 3 )shingles = 0.6501785021932229\n",
      "For ( k= 4 )shingles = 0.4121584653806553\n",
      "For ( k= 5 )shingles = 0.25954710182817986\n",
      "For ( k= 6 )shingles = 0.16438084449185433\n",
      "For ( k= 7 )shingles = 0.10419907560431345\n",
      "For ( k= 8 )shingles = 0.06276226944888254\n",
      "For ( k= 9 )shingles = 0.03855403934111287\n",
      "For ( k= 10 )shingles = 0.022433627187108066\n",
      "For ( k= 11 )shingles = 0.01312203666503183\n",
      "For ( k= 12 )shingles = 0.008094409004028528\n",
      "For ( k= 13 )shingles = 0.005707959571657899\n",
      "For ( k= 14 )shingles = 0.003770228292806415\n",
      "For ( k= 15 )shingles = 0.0028078184927554776\n",
      "For ( k= 16 )shingles = 0.0020486204634599377\n",
      "For ( k= 17 )shingles = 0.0014836614092883257\n",
      "For ( k= 18 )shingles = 0.0009241488066170127\n",
      "For ( k= 19 )shingles = 0.0003686511499930488\n",
      "For ( k= 20 )shingles = 0.0\n",
      "For ( k= 21 )shingles = 0.0\n",
      "For ( k= 22 )shingles = 0.0\n",
      "For ( k= 23 )shingles = 0.0\n",
      "Character based cosine similarity between file 1 and file 3 :\n",
      "For ( k= 1 )shingles = 1.0\n",
      "For ( k= 2 )shingles = 0.9007974545505978\n",
      "For ( k= 3 )shingles = 0.6877241884271433\n",
      "For ( k= 4 )shingles = 0.44186189628994366\n",
      "For ( k= 5 )shingles = 0.2682465554087607\n",
      "For ( k= 6 )shingles = 0.1716427739097645\n",
      "For ( k= 7 )shingles = 0.10482806564555593\n",
      "For ( k= 8 )shingles = 0.06077578029654244\n",
      "For ( k= 9 )shingles = 0.03644743661763432\n",
      "For ( k= 10 )shingles = 0.020797394953081107\n",
      "For ( k= 11 )shingles = 0.01233555353580519\n",
      "For ( k= 12 )shingles = 0.008375582827827292\n",
      "For ( k= 13 )shingles = 0.006247207452316071\n",
      "For ( k= 14 )shingles = 0.004853128362497268\n",
      "For ( k= 15 )shingles = 0.0038243399773319996\n",
      "For ( k= 16 )shingles = 0.0033090034354231472\n",
      "For ( k= 17 )shingles = 0.002801582906835489\n",
      "For ( k= 18 )shingles = 0.002300067532851795\n",
      "For ( k= 19 )shingles = 0.001802661887396585\n",
      "For ( k= 20 )shingles = 0.0013083572291183886\n",
      "For ( k= 21 )shingles = 0.0009797641532689472\n",
      "For ( k= 22 )shingles = 0.0006522856411708411\n",
      "For ( k= 23 )shingles = 0.00032580726494886814\n",
      "Character based cosine similarity between file 1 and file 4 :\n",
      "For ( k= 1 )shingles = 1.0\n",
      "For ( k= 2 )shingles = 0.8810744280239413\n",
      "For ( k= 3 )shingles = 0.6759742096700772\n",
      "For ( k= 4 )shingles = 0.4486884285728311\n",
      "For ( k= 5 )shingles = 0.2838633691704523\n",
      "For ( k= 6 )shingles = 0.1827676835497903\n",
      "For ( k= 7 )shingles = 0.11678772407698804\n",
      "For ( k= 8 )shingles = 0.06641843842243446\n",
      "For ( k= 9 )shingles = 0.037836198729658016\n",
      "For ( k= 10 )shingles = 0.021255269421390423\n",
      "For ( k= 11 )shingles = 0.01143310769604588\n",
      "For ( k= 12 )shingles = 0.0063641275430780025\n",
      "For ( k= 13 )shingles = 0.0032173145571389897\n",
      "For ( k= 14 )shingles = 0.0013048593868437083\n",
      "For ( k= 15 )shingles = 0.0002881519384528229\n",
      "For ( k= 16 )shingles = 0.00014343311482324224\n",
      "For ( k= 17 )shingles = 0.0\n",
      "For ( k= 18 )shingles = 0.0\n",
      "For ( k= 19 )shingles = 0.0\n",
      "For ( k= 20 )shingles = 0.0\n",
      "For ( k= 21 )shingles = 0.0\n",
      "For ( k= 22 )shingles = 0.0\n",
      "For ( k= 23 )shingles = 0.0\n",
      "Character based cosine similarity between file 2 and file 3 :\n",
      "For ( k= 1 )shingles = 1.0\n",
      "For ( k= 2 )shingles = 0.8893639206608545\n",
      "For ( k= 3 )shingles = 0.6400367757894041\n",
      "For ( k= 4 )shingles = 0.41818654452200255\n",
      "For ( k= 5 )shingles = 0.25865861269062673\n",
      "For ( k= 6 )shingles = 0.15862413534442044\n",
      "For ( k= 7 )shingles = 0.09713214914260758\n",
      "For ( k= 8 )shingles = 0.055767123539263386\n",
      "For ( k= 9 )shingles = 0.03209116573399531\n",
      "For ( k= 10 )shingles = 0.018675400221530813\n",
      "For ( k= 11 )shingles = 0.011186965911091007\n",
      "For ( k= 12 )shingles = 0.006813404059715112\n",
      "For ( k= 13 )shingles = 0.004649780007387371\n",
      "For ( k= 14 )shingles = 0.003459628577718151\n",
      "For ( k= 15 )shingles = 0.0025215748526769537\n",
      "For ( k= 16 )shingles = 0.0018251242723440857\n",
      "For ( k= 17 )shingles = 0.0011360355771750667\n",
      "For ( k= 18 )shingles = 0.0004528145253396854\n",
      "For ( k= 19 )shingles = 0.0002257669066343936\n",
      "For ( k= 20 )shingles = 0.0\n",
      "For ( k= 21 )shingles = 0.0\n",
      "For ( k= 22 )shingles = 0.0\n",
      "For ( k= 23 )shingles = 0.0\n",
      "Character based cosine similarity between file 2 and file 4 :\n",
      "For ( k= 1 )shingles = 1.0\n",
      "For ( k= 2 )shingles = 0.8697341310999952\n",
      "For ( k= 3 )shingles = 0.6199509670558401\n",
      "For ( k= 4 )shingles = 0.4076851940287001\n",
      "For ( k= 5 )shingles = 0.2575091831798878\n",
      "For ( k= 6 )shingles = 0.16586102408128325\n",
      "For ( k= 7 )shingles = 0.10425103472049564\n",
      "For ( k= 8 )shingles = 0.058691788230566075\n",
      "For ( k= 9 )shingles = 0.03238945720730174\n",
      "For ( k= 10 )shingles = 0.018914120527257803\n",
      "For ( k= 11 )shingles = 0.011129063617620645\n",
      "For ( k= 12 )shingles = 0.007120092778726408\n",
      "For ( k= 13 )shingles = 0.005436918384016729\n",
      "For ( k= 14 )shingles = 0.003996369508663495\n",
      "For ( k= 15 )shingles = 0.0029794309926148995\n",
      "For ( k= 16 )shingles = 0.0021755914648753866\n",
      "For ( k= 17 )shingles = 0.0015768854052694654\n",
      "For ( k= 18 )shingles = 0.0009828477716670298\n",
      "For ( k= 19 )shingles = 0.00039242061699969774\n",
      "For ( k= 20 )shingles = 0.00019596675235138264\n",
      "For ( k= 21 )shingles = 0.0\n",
      "For ( k= 22 )shingles = 0.0\n",
      "For ( k= 23 )shingles = 0.0\n",
      "Character based cosine similarity between file 3 and file 4 :\n",
      "For ( k= 1 )shingles = 1.0\n",
      "For ( k= 2 )shingles = 0.8852468638066968\n",
      "For ( k= 3 )shingles = 0.6573687876301861\n",
      "For ( k= 4 )shingles = 0.4270761121641164\n",
      "For ( k= 5 )shingles = 0.26276459094502047\n",
      "For ( k= 6 )shingles = 0.17208609663655805\n",
      "For ( k= 7 )shingles = 0.10907193411506477\n",
      "For ( k= 8 )shingles = 0.06298469405970762\n",
      "For ( k= 9 )shingles = 0.03606250523645991\n",
      "For ( k= 10 )shingles = 0.019955794472889227\n",
      "For ( k= 11 )shingles = 0.010786752805387042\n",
      "For ( k= 12 )shingles = 0.006134506464840548\n",
      "For ( k= 13 )shingles = 0.0033952145281233898\n",
      "For ( k= 14 )shingles = 0.0026608048779560665\n",
      "For ( k= 15 )shingles = 0.0021172600568562364\n",
      "For ( k= 16 )shingles = 0.0015813411473182921\n",
      "For ( k= 17 )shingles = 0.0014012314542084356\n",
      "For ( k= 18 )shingles = 0.0012230802188786017\n",
      "For ( k= 19 )shingles = 0.0010466682860782604\n",
      "For ( k= 20 )shingles = 0.0008708897795839704\n",
      "For ( k= 21 )shingles = 0.0006957710096495314\n",
      "For ( k= 22 )shingles = 0.0005212165127698385\n",
      "For ( k= 23 )shingles = 0.0003471664855979276\n"
     ]
    }
   ],
   "source": [
    "def cosine_similarity_character_based(fx,fy,n):\n",
    "    for k in range(1,n):\n",
    "        s1 = construct_shingles_character_based(k,fx)\n",
    "        s2 = construct_shingles_character_based(k,fy)\n",
    "        union_list = s1.copy()\n",
    "        union_list.extend(s2)\n",
    "        union_list = list(set(union_list))\n",
    "        l1 = []\n",
    "        l2 = []\n",
    "        for i in union_list:\n",
    "            if i in s1:\n",
    "                l1.append(1)\n",
    "            else:\n",
    "                l1.append(0)\n",
    "            if i in s2:\n",
    "                l2.append(1)\n",
    "            else:\n",
    "                l2.append(0)\n",
    "        c = 0\n",
    "        for i in range(0,len(union_list)):\n",
    "            c = c + l1[i]*l2[i]\n",
    "        print(\"For ( k=\",k,\")shingles =\",c/float((sum(l1)*sum(l2))**0.5))\n",
    "\n",
    "length = 24\n",
    "        \n",
    "print(\"Character based cosine similarity between file 1 and file 2 :\")\n",
    "cosine_similarity_character_based(f1,f2,length)\n",
    "print(\"Character based cosine similarity between file 1 and file 3 :\")\n",
    "cosine_similarity_character_based(f1,f3,length)\n",
    "print(\"Character based cosine similarity between file 1 and file 4 :\")\n",
    "cosine_similarity_character_based(f1,f4,length)\n",
    "print(\"Character based cosine similarity between file 2 and file 3 :\")\n",
    "cosine_similarity_character_based(f2,f3,length)\n",
    "print(\"Character based cosine similarity between file 2 and file 4 :\")\n",
    "cosine_similarity_character_based(f2,f4,length)\n",
    "print(\"Character based cosine similarity between file 3 and file 4 :\")\n",
    "cosine_similarity_character_based(f3,f4,length)"
   ]
  },
  {
   "cell_type": "code",
   "execution_count": 38,
   "id": "07400eb9",
   "metadata": {
    "scrolled": false
   },
   "outputs": [
    {
     "name": "stdout",
     "output_type": "stream",
     "text": [
      "Word based cosine similarity between file 1 and file 2 :\n",
      "For ( k= 1 )shingles = 0.34806117092923045\n",
      "For ( k= 2 )shingles = 0.06690149070641849\n",
      "For ( k= 3 )shingles = 0.009628524195863585\n",
      "For ( k= 4 )shingles = 0.0028246734309203703\n",
      "For ( k= 5 )shingles = 0.0009360153444874006\n",
      "For ( k= 6 )shingles = 0.0\n",
      "For ( k= 7 )shingles = 0.0\n",
      "For ( k= 8 )shingles = 0.0\n",
      "For ( k= 9 )shingles = 0.0\n",
      "Word based cosine similarity between file 1 and file 3 :\n",
      "For ( k= 1 )shingles = 0.3452432641379077\n",
      "For ( k= 2 )shingles = 0.07516009089375288\n",
      "For ( k= 3 )shingles = 0.008507019059648768\n",
      "For ( k= 4 )shingles = 0.003320793341969046\n",
      "For ( k= 5 )shingles = 0.0016495755641688233\n",
      "For ( k= 6 )shingles = 0.0008239731766687861\n",
      "For ( k= 7 )shingles = 0.0\n",
      "For ( k= 8 )shingles = 0.0\n",
      "For ( k= 9 )shingles = 0.0\n",
      "Word based cosine similarity between file 1 and file 4 :\n",
      "For ( k= 1 )shingles = 0.3544575941530379\n",
      "For ( k= 2 )shingles = 0.0750971992551518\n",
      "For ( k= 3 )shingles = 0.004496141998319831\n",
      "For ( k= 4 )shingles = 0.0\n",
      "For ( k= 5 )shingles = 0.0\n",
      "For ( k= 6 )shingles = 0.0\n",
      "For ( k= 7 )shingles = 0.0\n",
      "For ( k= 8 )shingles = 0.0\n",
      "For ( k= 9 )shingles = 0.0\n",
      "Word based cosine similarity between file 2 and file 3 :\n",
      "For ( k= 1 )shingles = 0.34458805272437354\n",
      "For ( k= 2 )shingles = 0.07568925499243744\n",
      "For ( k= 3 )shingles = 0.0057746577389603095\n",
      "For ( k= 4 )shingles = 0.0011318722445315588\n",
      "For ( k= 5 )shingles = 0.0\n",
      "For ( k= 6 )shingles = 0.0\n",
      "For ( k= 7 )shingles = 0.0\n",
      "For ( k= 8 )shingles = 0.0\n",
      "For ( k= 9 )shingles = 0.0\n",
      "Word based cosine similarity between file 2 and file 4 :\n",
      "For ( k= 1 )shingles = 0.32975615264466274\n",
      "For ( k= 2 )shingles = 0.07501144122696854\n",
      "For ( k= 3 )shingles = 0.010173434824432321\n",
      "For ( k= 4 )shingles = 0.002994984605186421\n",
      "For ( k= 5 )shingles = 0.0\n",
      "For ( k= 6 )shingles = 0.0\n",
      "For ( k= 7 )shingles = 0.0\n",
      "For ( k= 8 )shingles = 0.0\n",
      "For ( k= 9 )shingles = 0.0\n",
      "Word based cosine similarity between file 3 and file 4 :\n",
      "For ( k= 1 )shingles = 0.3228823316416267\n",
      "For ( k= 2 )shingles = 0.07703108733067579\n",
      "For ( k= 3 )shingles = 0.006291921953470728\n",
      "For ( k= 4 )shingles = 0.001760508812688166\n",
      "For ( k= 5 )shingles = 0.0008756480140784072\n",
      "For ( k= 6 )shingles = 0.0\n",
      "For ( k= 7 )shingles = 0.0\n",
      "For ( k= 8 )shingles = 0.0\n",
      "For ( k= 9 )shingles = 0.0\n"
     ]
    }
   ],
   "source": [
    "def cosine_similarity_word_based(fx,fy,n):\n",
    "    for k in range(1,n):\n",
    "        s1 = construct_shingles_word_based(k,fx)\n",
    "        s2 = construct_shingles_word_based(k,fy)\n",
    "        union_list = s1.copy()\n",
    "        union_list.extend(s2)\n",
    "        union_list = list(set(union_list))\n",
    "        l1 = []\n",
    "        l2 = []\n",
    "        for i in union_list:\n",
    "            if i in s1:\n",
    "                l1.append(1)\n",
    "            else:\n",
    "                l1.append(0)\n",
    "            if i in s2:\n",
    "                l2.append(1)\n",
    "            else:\n",
    "                l2.append(0)\n",
    "        c = 0\n",
    "        for i in range(0,len(union_list)):\n",
    "            c = c + l1[i]*l2[i]\n",
    "        print(\"For ( k=\",k,\")shingles =\",c/float((sum(l1)*sum(l2))**0.5))\n",
    "\n",
    "length = 10\n",
    "\n",
    "print(\"Word based cosine similarity between file 1 and file 2 :\")\n",
    "cosine_similarity_word_based(f1,f2,length)\n",
    "print(\"Word based cosine similarity between file 1 and file 3 :\")\n",
    "cosine_similarity_word_based(f1,f3,length)\n",
    "print(\"Word based cosine similarity between file 1 and file 4 :\")\n",
    "cosine_similarity_word_based(f1,f4,length)\n",
    "print(\"Word based cosine similarity between file 2 and file 3 :\")\n",
    "cosine_similarity_word_based(f2,f3,length)\n",
    "print(\"Word based cosine similarity between file 2 and file 4 :\")\n",
    "cosine_similarity_word_based(f2,f4,length)\n",
    "print(\"Word based cosine similarity between file 3 and file 4 :\")\n",
    "cosine_similarity_word_based(f3,f4,length)"
   ]
  },
  {
   "cell_type": "markdown",
   "id": "8770c05b",
   "metadata": {},
   "source": [
    "### Try the above all for any one Indian language."
   ]
  },
  {
   "cell_type": "markdown",
   "id": "ac613718",
   "metadata": {},
   "source": [
    "Finding the jaccard distance and cosine similarity for a sentence in tamil language"
   ]
  },
  {
   "cell_type": "code",
   "execution_count": 39,
   "id": "31cb8629",
   "metadata": {
    "scrolled": false
   },
   "outputs": [
    {
     "name": "stdout",
     "output_type": "stream",
     "text": [
      "Character based jaccard distance between txt 1 and txt 2 :\n",
      "For ( k= 1 )shingles = 0.22857142857142854\n",
      "For ( k= 2 )shingles = 0.6770833333333333\n",
      "For ( k= 3 )shingles = 0.8353658536585366\n",
      "For ( k= 4 )shingles = 0.9097744360902256\n",
      "For ( k= 5 )shingles = 0.954337899543379\n",
      "For ( k= 6 )shingles = 0.9736263736263736\n",
      "For ( k= 7 )shingles = 0.9871244635193133\n",
      "For ( k= 8 )shingles = 0.9957446808510638\n",
      "For ( k= 9 )shingles = 1.0\n",
      "\n",
      "\n",
      "Word based jaccard distance between txt 1 and txt 2 :\n",
      "For ( k= 1 )shingles = 0.9298245614035088\n",
      "For ( k= 2 )shingles = 1.0\n",
      "For ( k= 3 )shingles = 1.0\n",
      "\n",
      "\n",
      "Character based cosine similarity between txt 1 and txt 2 :\n",
      "For ( k= 1 )shingles = 0.8714212528966687\n",
      "For ( k= 2 )shingles = 0.49316748953083744\n",
      "For ( k= 3 )shingles = 0.286521542985156\n",
      "For ( k= 4 )shingles = 0.16877060313785835\n",
      "For ( k= 5 )shingles = 0.0893204338137869\n",
      "For ( k= 6 )shingles = 0.05263765474293814\n",
      "For ( k= 7 )shingles = 0.026064301757134343\n",
      "For ( k= 8 )shingles = 0.008688100585711449\n",
      "For ( k= 9 )shingles = 0.0\n",
      "\n",
      "\n",
      "Word based cosine similarity between txt 1 and txt 2 :\n",
      "For ( k= 1 )shingles = 0.13530201829834768\n",
      "For ( k= 2 )shingles = 0.0\n",
      "For ( k= 3 )shingles = 0.0\n"
     ]
    }
   ],
   "source": [
    "tamiltxt1 = \"ஒரு கிராமத்துல ஒரு அழகான பாப்பா இருந்துச்சு அவளுக்கு எப்பவுமோ குளிருக்கு சிகப்பு முக்காடு போட்டுகிறது ரொம்ப பிடிக்கும் அதனால அங்க இருந்த எல்லாரும் அவளை லிட்டில் ரெட் ரைடிங் ஹூட் னு சொல்லுவாங்க\"\n",
    "tamiltxt2 = \"அந்த பாப்பா ஒருநாள் அவுங்க பாட்டி வீட்டுக்கு கிளம்பி போனா போற வழியில ஒரு அவலட்சணமான விறகு வெட்ரவர பாத்தா அவரு கிட்ட போய் ஐய்யா நீங்க நலமான்னு கேட்டா தங்கிட்ட யாரும் பேச மாட்டாங்கனு தனிமையில வாழ்ந்துட்டு வந்த அந்த விறகு வெட்டுபவர் இந்த அழகான பெண்ணோட கரிசனமான விசாரிப்ப கேட்டதும் ரொம்ப மகிழ்ந்து போனாரு\"\n",
    "\n",
    "print(\"Character based jaccard distance between txt 1 and txt 2 :\")\n",
    "jaccard_distance_character_based(tamiltxt1,tamiltxt2,10)\n",
    "print(\"\\n\\nWord based jaccard distance between txt 1 and txt 2 :\")\n",
    "jaccard_distance_word_based(tamiltxt1,tamiltxt2,4)\n",
    "print(\"\\n\\nCharacter based cosine similarity between txt 1 and txt 2 :\")\n",
    "cosine_similarity_character_based(tamiltxt1,tamiltxt2,10)\n",
    "print(\"\\n\\nWord based cosine similarity between txt 1 and txt 2 :\")\n",
    "cosine_similarity_word_based(tamiltxt1,tamiltxt2,4)"
   ]
  },
  {
   "cell_type": "markdown",
   "id": "27b45ada",
   "metadata": {},
   "source": [
    "# Conclusion"
   ]
  },
  {
   "cell_type": "markdown",
   "id": "e8f409be",
   "metadata": {
    "scrolled": true
   },
   "source": [
    "Differences between Jaccard Similarity and Cosine Similarity: Jaccard similarity takes only unique set of words for each sentence / document while cosine similarity takes total length of the vectors. (these vectors could be made from bag of words term frequency or tf-idf). Also from above results we can conclude the most of the similarity between the documents are there until k=25 shingles for character based and k=10 shingles for word based. Also jaccard similarity are giving the best results when compared to cosine similarity because jaccard similarity is high as compared to cosine similarity for some k-shingles."
   ]
  }
 ],
 "metadata": {
  "kernelspec": {
   "display_name": "Python (Python 3.8.10)",
   "language": "python",
   "name": "py371"
  },
  "language_info": {
   "codemirror_mode": {
    "name": "ipython",
    "version": 3
   },
   "file_extension": ".py",
   "mimetype": "text/x-python",
   "name": "python",
   "nbconvert_exporter": "python",
   "pygments_lexer": "ipython3",
   "version": "3.8.10"
  }
 },
 "nbformat": 4,
 "nbformat_minor": 5
}
